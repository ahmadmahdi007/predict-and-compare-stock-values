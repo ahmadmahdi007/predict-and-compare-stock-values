{
  "nbformat": 4,
  "nbformat_minor": 0,
  "metadata": {
    "colab": {
      "name": "forecasting and compare saham",
      "provenance": [],
      "collapsed_sections": []
    },
    "kernelspec": {
      "name": "python3",
      "display_name": "Python 3"
    },
    "accelerator": "GPU"
  },
  "cells": [
    {
      "cell_type": "code",
      "metadata": {
        "id": "cfRhTxqE_yLo",
        "colab_type": "code",
        "colab": {}
      },
      "source": [
        "\n",
        "import numpy as np\n",
        "import pandas as pd\n",
        "import matplotlib.pyplot as plt\n",
        "import math\n",
        "import pandas_datareader.data as web\n",
        "import datetime\n",
        "from sklearn import preprocessing\n",
        "from sklearn.linear_model import LinearRegression\n",
        "from sklearn.neighbors import KNeighborsRegressor\n",
        "from sklearn.model_selection import train_test_split\n",
        "\n",
        "\n",
        "\n"
      ],
      "execution_count": 0,
      "outputs": []
    },
    {
      "cell_type": "code",
      "metadata": {
        "id": "YhDOQAppDisL",
        "colab_type": "code",
        "colab": {}
      },
      "source": [
        "start = datetime.datetime(2019,1,1)\n",
        "end = datetime.datetime(2019,11,29)"
      ],
      "execution_count": 0,
      "outputs": []
    },
    {
      "cell_type": "code",
      "metadata": {
        "id": "wpzhEnaGDtzt",
        "colab_type": "code",
        "colab": {}
      },
      "source": [
        "df = web.DataReader(\"TLKM.JK\",'yahoo',start,end)"
      ],
      "execution_count": 0,
      "outputs": []
    },
    {
      "cell_type": "code",
      "metadata": {
        "id": "yLxXiHe7D2gQ",
        "colab_type": "code",
        "outputId": "536942d1-c71c-47fc-8580-71e1a20b0733",
        "colab": {
          "base_uri": "https://localhost:8080/",
          "height": 228
        }
      },
      "source": [
        "df.tail()"
      ],
      "execution_count": 278,
      "outputs": [
        {
          "output_type": "execute_result",
          "data": {
            "text/html": [
              "<div>\n",
              "<style scoped>\n",
              "    .dataframe tbody tr th:only-of-type {\n",
              "        vertical-align: middle;\n",
              "    }\n",
              "\n",
              "    .dataframe tbody tr th {\n",
              "        vertical-align: top;\n",
              "    }\n",
              "\n",
              "    .dataframe thead th {\n",
              "        text-align: right;\n",
              "    }\n",
              "</style>\n",
              "<table border=\"1\" class=\"dataframe\">\n",
              "  <thead>\n",
              "    <tr style=\"text-align: right;\">\n",
              "      <th></th>\n",
              "      <th>High</th>\n",
              "      <th>Low</th>\n",
              "      <th>Open</th>\n",
              "      <th>Close</th>\n",
              "      <th>Volume</th>\n",
              "      <th>Adj Close</th>\n",
              "    </tr>\n",
              "    <tr>\n",
              "      <th>Date</th>\n",
              "      <th></th>\n",
              "      <th></th>\n",
              "      <th></th>\n",
              "      <th></th>\n",
              "      <th></th>\n",
              "      <th></th>\n",
              "    </tr>\n",
              "  </thead>\n",
              "  <tbody>\n",
              "    <tr>\n",
              "      <th>2019-11-25</th>\n",
              "      <td>4070.0</td>\n",
              "      <td>3940.0</td>\n",
              "      <td>4070.0</td>\n",
              "      <td>3950.0</td>\n",
              "      <td>107581200.0</td>\n",
              "      <td>3950.0</td>\n",
              "    </tr>\n",
              "    <tr>\n",
              "      <th>2019-11-26</th>\n",
              "      <td>3960.0</td>\n",
              "      <td>3860.0</td>\n",
              "      <td>3950.0</td>\n",
              "      <td>3860.0</td>\n",
              "      <td>281002600.0</td>\n",
              "      <td>3860.0</td>\n",
              "    </tr>\n",
              "    <tr>\n",
              "      <th>2019-11-27</th>\n",
              "      <td>3930.0</td>\n",
              "      <td>3800.0</td>\n",
              "      <td>3870.0</td>\n",
              "      <td>3880.0</td>\n",
              "      <td>97511300.0</td>\n",
              "      <td>3880.0</td>\n",
              "    </tr>\n",
              "    <tr>\n",
              "      <th>2019-11-28</th>\n",
              "      <td>3900.0</td>\n",
              "      <td>3800.0</td>\n",
              "      <td>3830.0</td>\n",
              "      <td>3820.0</td>\n",
              "      <td>70635000.0</td>\n",
              "      <td>3820.0</td>\n",
              "    </tr>\n",
              "    <tr>\n",
              "      <th>2019-11-29</th>\n",
              "      <td>3950.0</td>\n",
              "      <td>3840.0</td>\n",
              "      <td>3860.0</td>\n",
              "      <td>3930.0</td>\n",
              "      <td>72146900.0</td>\n",
              "      <td>3930.0</td>\n",
              "    </tr>\n",
              "  </tbody>\n",
              "</table>\n",
              "</div>"
            ],
            "text/plain": [
              "              High     Low    Open   Close       Volume  Adj Close\n",
              "Date                                                              \n",
              "2019-11-25  4070.0  3940.0  4070.0  3950.0  107581200.0     3950.0\n",
              "2019-11-26  3960.0  3860.0  3950.0  3860.0  281002600.0     3860.0\n",
              "2019-11-27  3930.0  3800.0  3870.0  3880.0   97511300.0     3880.0\n",
              "2019-11-28  3900.0  3800.0  3830.0  3820.0   70635000.0     3820.0\n",
              "2019-11-29  3950.0  3840.0  3860.0  3930.0   72146900.0     3930.0"
            ]
          },
          "metadata": {
            "tags": []
          },
          "execution_count": 278
        }
      ]
    },
    {
      "cell_type": "code",
      "metadata": {
        "id": "YLxQNDoSEZBP",
        "colab_type": "code",
        "outputId": "1506bc21-0105-40df-c5ff-9286e1474c25",
        "colab": {
          "base_uri": "https://localhost:8080/",
          "height": 283
        }
      },
      "source": [
        "plt.plot(df['Adj Close']) # melihat Trend nilai sahamnya apakah lagi naik atau turun"
      ],
      "execution_count": 279,
      "outputs": [
        {
          "output_type": "execute_result",
          "data": {
            "text/plain": [
              "[<matplotlib.lines.Line2D at 0x7f37a0488d30>]"
            ]
          },
          "metadata": {
            "tags": []
          },
          "execution_count": 279
        },
        {
          "output_type": "display_data",
          "data": {
            "image/png": "[encoded data removed]",
            "text/plain": [
              "<Figure size 432x288 with 1 Axes>"
            ]
          },
          "metadata": {
            "tags": []
          }
        }
      ]
    },
    {
      "cell_type": "code",
      "metadata": {
        "id": "ykTBL2hMS5RG",
        "colab_type": "code",
        "colab": {}
      },
      "source": [
        "# membuat rumus untuk menambahkan hasil perhitungan ke tabel\n",
        "dfreg = df.loc[:,['Adj Close','Volume']]\n",
        "# HL PCT adalah High & Low Percentage\n",
        "dfreg['HL_PCT'] = (df['High'] - df['Low']) / df['Close'] * 100.0\n",
        "# PCT CHange adalah perubahan persentase\n",
        "dfreg['PCT_change'] = (df['Close'] - df['Open']) / df['Open'] *100.0"
      ],
      "execution_count": 0,
      "outputs": []
    },
    {
      "cell_type": "code",
      "metadata": {
        "id": "FDcqLu7_S5ec",
        "colab_type": "code",
        "colab": {
          "base_uri": "https://localhost:8080/",
          "height": 283
        },
        "outputId": "3f002424-411d-4591-a59a-9033ebe8743e"
      },
      "source": [
        "plt.plot(dfreg['HL_PCT'])"
      ],
      "execution_count": 281,
      "outputs": [
        {
          "output_type": "execute_result",
          "data": {
            "text/plain": [
              "[<matplotlib.lines.Line2D at 0x7f37a04db208>]"
            ]
          },
          "metadata": {
            "tags": []
          },
          "execution_count": 281
        },
        {
          "output_type": "display_data",
          "data": {
            "image/png": "[encoded data removed]",
            "text/plain": [
              "<Figure size 432x288 with 1 Axes>"
            ]
          },
          "metadata": {
            "tags": []
          }
        }
      ]
    },
    {
      "cell_type": "code",
      "metadata": {
        "id": "_3r552g_S5na",
        "colab_type": "code",
        "colab": {}
      },
      "source": [
        "# drop missing value\n",
        "dfreg = dfreg.dropna()"
      ],
      "execution_count": 0,
      "outputs": []
    },
    {
      "cell_type": "code",
      "metadata": {
        "id": "00sObwMAS5uy",
        "colab_type": "code",
        "colab": {}
      },
      "source": [
        "# forecasting perseminggu\n",
        "forecast_out = 7  # 7 days"
      ],
      "execution_count": 0,
      "outputs": []
    },
    {
      "cell_type": "code",
      "metadata": {
        "id": "KzkYT_0ES5yh",
        "colab_type": "code",
        "colab": {
          "base_uri": "https://localhost:8080/",
          "height": 528
        },
        "outputId": "3d5a921d-489b-4811-c115-b12aa7558c60"
      },
      "source": [
        "dfreg['label'] = dfreg['Adj Close'].shift(-forecast_out)\n",
        "# akan muncul kolom baru bernama label merupakan hasil nilai saham 7 hari kedepan\n",
        "dfreg.head(15)"
      ],
      "execution_count": 284,
      "outputs": [
        {
          "output_type": "execute_result",
          "data": {
            "text/html": [
              "<div>\n",
              "<style scoped>\n",
              "    .dataframe tbody tr th:only-of-type {\n",
              "        vertical-align: middle;\n",
              "    }\n",
              "\n",
              "    .dataframe tbody tr th {\n",
              "        vertical-align: top;\n",
              "    }\n",
              "\n",
              "    .dataframe thead th {\n",
              "        text-align: right;\n",
              "    }\n",
              "</style>\n",
              "<table border=\"1\" class=\"dataframe\">\n",
              "  <thead>\n",
              "    <tr style=\"text-align: right;\">\n",
              "      <th></th>\n",
              "      <th>Adj Close</th>\n",
              "      <th>Volume</th>\n",
              "      <th>HL_PCT</th>\n",
              "      <th>PCT_change</th>\n",
              "      <th>label</th>\n",
              "    </tr>\n",
              "    <tr>\n",
              "      <th>Date</th>\n",
              "      <th></th>\n",
              "      <th></th>\n",
              "      <th></th>\n",
              "      <th></th>\n",
              "      <th></th>\n",
              "    </tr>\n",
              "  </thead>\n",
              "  <tbody>\n",
              "    <tr>\n",
              "      <th>2019-01-01</th>\n",
              "      <td>3648.120361</td>\n",
              "      <td>0.0</td>\n",
              "      <td>0.000000</td>\n",
              "      <td>0.000000</td>\n",
              "      <td>3696.761963</td>\n",
              "    </tr>\n",
              "    <tr>\n",
              "      <th>2019-01-02</th>\n",
              "      <td>3628.663574</td>\n",
              "      <td>31355300.0</td>\n",
              "      <td>1.608579</td>\n",
              "      <td>-0.533333</td>\n",
              "      <td>3755.131836</td>\n",
              "    </tr>\n",
              "    <tr>\n",
              "      <th>2019-01-03</th>\n",
              "      <td>3638.392090</td>\n",
              "      <td>83842400.0</td>\n",
              "      <td>2.139037</td>\n",
              "      <td>0.808625</td>\n",
              "      <td>3745.403564</td>\n",
              "    </tr>\n",
              "    <tr>\n",
              "      <th>2019-01-04</th>\n",
              "      <td>3609.207031</td>\n",
              "      <td>73936900.0</td>\n",
              "      <td>1.347709</td>\n",
              "      <td>0.542005</td>\n",
              "      <td>3823.229980</td>\n",
              "    </tr>\n",
              "    <tr>\n",
              "      <th>2019-01-07</th>\n",
              "      <td>3667.576904</td>\n",
              "      <td>83678100.0</td>\n",
              "      <td>1.061008</td>\n",
              "      <td>0.265957</td>\n",
              "      <td>3881.600098</td>\n",
              "    </tr>\n",
              "    <tr>\n",
              "      <th>2019-01-08</th>\n",
              "      <td>3696.761963</td>\n",
              "      <td>67963700.0</td>\n",
              "      <td>1.315789</td>\n",
              "      <td>0.795756</td>\n",
              "      <td>3881.600098</td>\n",
              "    </tr>\n",
              "    <tr>\n",
              "      <th>2019-01-09</th>\n",
              "      <td>3628.663574</td>\n",
              "      <td>98529400.0</td>\n",
              "      <td>2.680965</td>\n",
              "      <td>-2.356021</td>\n",
              "      <td>3910.784912</td>\n",
              "    </tr>\n",
              "    <tr>\n",
              "      <th>2019-01-10</th>\n",
              "      <td>3696.761963</td>\n",
              "      <td>126396700.0</td>\n",
              "      <td>1.578947</td>\n",
              "      <td>1.063830</td>\n",
              "      <td>3920.513184</td>\n",
              "    </tr>\n",
              "    <tr>\n",
              "      <th>2019-01-11</th>\n",
              "      <td>3755.131836</td>\n",
              "      <td>116753700.0</td>\n",
              "      <td>1.554404</td>\n",
              "      <td>1.047120</td>\n",
              "      <td>3891.328369</td>\n",
              "    </tr>\n",
              "    <tr>\n",
              "      <th>2019-01-14</th>\n",
              "      <td>3745.403564</td>\n",
              "      <td>68487000.0</td>\n",
              "      <td>1.558442</td>\n",
              "      <td>1.049869</td>\n",
              "      <td>3813.501709</td>\n",
              "    </tr>\n",
              "    <tr>\n",
              "      <th>2019-01-15</th>\n",
              "      <td>3823.229980</td>\n",
              "      <td>83464900.0</td>\n",
              "      <td>2.035623</td>\n",
              "      <td>1.813472</td>\n",
              "      <td>3755.131836</td>\n",
              "    </tr>\n",
              "    <tr>\n",
              "      <th>2019-01-16</th>\n",
              "      <td>3881.600098</td>\n",
              "      <td>139056700.0</td>\n",
              "      <td>2.005013</td>\n",
              "      <td>1.269036</td>\n",
              "      <td>3774.588379</td>\n",
              "    </tr>\n",
              "    <tr>\n",
              "      <th>2019-01-17</th>\n",
              "      <td>3881.600098</td>\n",
              "      <td>78766100.0</td>\n",
              "      <td>0.751880</td>\n",
              "      <td>0.503778</td>\n",
              "      <td>3677.305176</td>\n",
              "    </tr>\n",
              "    <tr>\n",
              "      <th>2019-01-18</th>\n",
              "      <td>3910.784912</td>\n",
              "      <td>76350400.0</td>\n",
              "      <td>1.243781</td>\n",
              "      <td>0.249377</td>\n",
              "      <td>3735.675293</td>\n",
              "    </tr>\n",
              "    <tr>\n",
              "      <th>2019-01-21</th>\n",
              "      <td>3920.513184</td>\n",
              "      <td>83317600.0</td>\n",
              "      <td>0.744417</td>\n",
              "      <td>-0.247525</td>\n",
              "      <td>3755.131836</td>\n",
              "    </tr>\n",
              "  </tbody>\n",
              "</table>\n",
              "</div>"
            ],
            "text/plain": [
              "              Adj Close       Volume    HL_PCT  PCT_change        label\n",
              "Date                                                                   \n",
              "2019-01-01  3648.120361          0.0  0.000000    0.000000  3696.761963\n",
              "2019-01-02  3628.663574   31355300.0  1.608579   -0.533333  3755.131836\n",
              "2019-01-03  3638.392090   83842400.0  2.139037    0.808625  3745.403564\n",
              "2019-01-04  3609.207031   73936900.0  1.347709    0.542005  3823.229980\n",
              "2019-01-07  3667.576904   83678100.0  1.061008    0.265957  3881.600098\n",
              "2019-01-08  3696.761963   67963700.0  1.315789    0.795756  3881.600098\n",
              "2019-01-09  3628.663574   98529400.0  2.680965   -2.356021  3910.784912\n",
              "2019-01-10  3696.761963  126396700.0  1.578947    1.063830  3920.513184\n",
              "2019-01-11  3755.131836  116753700.0  1.554404    1.047120  3891.328369\n",
              "2019-01-14  3745.403564   68487000.0  1.558442    1.049869  3813.501709\n",
              "2019-01-15  3823.229980   83464900.0  2.035623    1.813472  3755.131836\n",
              "2019-01-16  3881.600098  139056700.0  2.005013    1.269036  3774.588379\n",
              "2019-01-17  3881.600098   78766100.0  0.751880    0.503778  3677.305176\n",
              "2019-01-18  3910.784912   76350400.0  1.243781    0.249377  3735.675293\n",
              "2019-01-21  3920.513184   83317600.0  0.744417   -0.247525  3755.131836"
            ]
          },
          "metadata": {
            "tags": []
          },
          "execution_count": 284
        }
      ]
    },
    {
      "cell_type": "code",
      "metadata": {
        "id": "Ai08ZOIfS51j",
        "colab_type": "code",
        "colab": {}
      },
      "source": [
        "X = np.array(dfreg.drop(['label'],1)) # X adalah nilai dfreg tanpa kolom label"
      ],
      "execution_count": 0,
      "outputs": []
    },
    {
      "cell_type": "code",
      "metadata": {
        "id": "jEVMJKw8S54U",
        "colab_type": "code",
        "colab": {}
      },
      "source": [
        "X = preprocessing.scale(X)\n",
        "X_lately = X[-forecast_out:]\n",
        "X = X[:-forecast_out]"
      ],
      "execution_count": 0,
      "outputs": []
    },
    {
      "cell_type": "code",
      "metadata": {
        "id": "pQ-nSG5pYTui",
        "colab_type": "code",
        "colab": {}
      },
      "source": [
        "y = np.array(dfreg['label']) # y adalah nilai dfreg dengan kolom label\n",
        "y = y[:-forecast_out]"
      ],
      "execution_count": 0,
      "outputs": []
    },
    {
      "cell_type": "code",
      "metadata": {
        "id": "vrzqInQmYTmv",
        "colab_type": "code",
        "colab": {}
      },
      "source": [
        "# membuat data train\n",
        "X_train = X\n",
        "y_train = y\n",
        "\n",
        "# split data\n",
        "X_train, X_test, y_train, y_test = train_test_split(X_train, y_train, test_size = 0.2, random_state = 20 )"
      ],
      "execution_count": 0,
      "outputs": []
    },
    {
      "cell_type": "code",
      "metadata": {
        "id": "UE0HBC6CYTcw",
        "colab_type": "code",
        "colab": {
          "base_uri": "https://localhost:8080/",
          "height": 35
        },
        "outputId": "f0f6aadb-e2e8-437f-e310-a48e6672f2d6"
      },
      "source": [
        "# menggunakan linear regression\n",
        "clfreg = LinearRegression()\n",
        "clfreg.fit(X_train, y_train)"
      ],
      "execution_count": 289,
      "outputs": [
        {
          "output_type": "execute_result",
          "data": {
            "text/plain": [
              "LinearRegression(copy_X=True, fit_intercept=True, n_jobs=None, normalize=False)"
            ]
          },
          "metadata": {
            "tags": []
          },
          "execution_count": 289
        }
      ]
    },
    {
      "cell_type": "code",
      "metadata": {
        "id": "I90i_dNAYTOy",
        "colab_type": "code",
        "colab": {}
      },
      "source": [
        "clf = clfreg"
      ],
      "execution_count": 0,
      "outputs": []
    },
    {
      "cell_type": "code",
      "metadata": {
        "id": "PakOG_ymc1ve",
        "colab_type": "code",
        "colab": {
          "base_uri": "https://localhost:8080/",
          "height": 54
        },
        "outputId": "d9473ca5-fbd3-4628-b2b7-641003f25069"
      },
      "source": [
        "clf.predict(X_lately) # predict 7 periode kedepan"
      ],
      "execution_count": 291,
      "outputs": [
        {
          "output_type": "execute_result",
          "data": {
            "text/plain": [
              "array([4025.91711932, 4043.27843155, 3990.05939846, 3936.78168364,\n",
              "       3893.41339193, 3843.6455213 , 3918.51986284])"
            ]
          },
          "metadata": {
            "tags": []
          },
          "execution_count": 291
        }
      ]
    },
    {
      "cell_type": "code",
      "metadata": {
        "id": "voi3oKOuc1ne",
        "colab_type": "code",
        "colab": {}
      },
      "source": [
        "forecast_set = clf.predict(X_lately)\n",
        "dfreg['Forecast'] = np.nan"
      ],
      "execution_count": 0,
      "outputs": []
    },
    {
      "cell_type": "code",
      "metadata": {
        "id": "WI0NVZDzc1d-",
        "colab_type": "code",
        "colab": {}
      },
      "source": [
        "last_date = dfreg.iloc[-1].name\n",
        "last_unix = last_date\n",
        "next_unix = last_unix + datetime.timedelta(days=1) # untuk nambah 1 hari (besoknya)"
      ],
      "execution_count": 0,
      "outputs": []
    },
    {
      "cell_type": "code",
      "metadata": {
        "id": "I4dTm7PIc1RJ",
        "colab_type": "code",
        "colab": {}
      },
      "source": [
        "for i in forecast_set:\n",
        "  next_date = next_unix\n",
        "  next_unix += datetime.timedelta(days=1)\n",
        "  dfreg.loc[next_date] = [np.nan for _ in range(len(dfreg.columns)-1)] + [i]"
      ],
      "execution_count": 0,
      "outputs": []
    },
    {
      "cell_type": "code",
      "metadata": {
        "id": "hGEsDF7ug5Ba",
        "colab_type": "code",
        "colab": {
          "base_uri": "https://localhost:8080/",
          "height": 285
        },
        "outputId": "6e260fd3-e3c6-43a0-f891-a50a92b64156"
      },
      "source": [
        "dfreg['Adj Close'].tail(50).plot()\n",
        "dfreg['Forecast'].tail(50).plot()\n",
        "plt.legend(loc=1)\n",
        "plt.xlabel('Date')\n",
        "plt.ylabel('Price')\n",
        "plt.show()"
      ],
      "execution_count": 295,
      "outputs": [
        {
          "output_type": "display_data",
          "data": {
            "image/png": "[encoded data removed]",
            "text/plain": [
              "<Figure size 432x288 with 1 Axes>"
            ]
          },
          "metadata": {
            "tags": []
          }
        }
      ]
    },
    {
      "cell_type": "code",
      "metadata": {
        "id": "Et9nWST9FNBI",
        "colab_type": "code",
        "colab": {}
      },
      "source": [
        "# moving average\n",
        "close_px = df['Adj Close']\n",
        "# window = days\n",
        "mavg = close_px.rolling(window=30).mean()\n",
        "mavg2 = close_px.rolling(window=100,center=True).mean()"
      ],
      "execution_count": 0,
      "outputs": []
    },
    {
      "cell_type": "code",
      "metadata": {
        "id": "mXkpl3zXKAS2",
        "colab_type": "code",
        "colab": {
          "base_uri": "https://localhost:8080/",
          "height": 309
        },
        "outputId": "4a7878ea-9631-449f-fc4a-ce1db77a3229"
      },
      "source": [
        "close_px.plot()\n",
        "mavg.plot()\n",
        "mavg2.plot()"
      ],
      "execution_count": 297,
      "outputs": [
        {
          "output_type": "execute_result",
          "data": {
            "text/plain": [
              "<matplotlib.axes._subplots.AxesSubplot at 0x7f37a0364780>"
            ]
          },
          "metadata": {
            "tags": []
          },
          "execution_count": 297
        },
        {
          "output_type": "display_data",
          "data": {
            "image/png": "[encoded data removed]",
            "text/plain": [
              "<Figure size 432x288 with 1 Axes>"
            ]
          },
          "metadata": {
            "tags": []
          }
        }
      ]
    },
    {
      "cell_type": "code",
      "metadata": {
        "id": "IZxdqiZLK2g8",
        "colab_type": "code",
        "colab": {
          "base_uri": "https://localhost:8080/",
          "height": 313
        },
        "outputId": "32e62ee2-f798-4c78-e4e3-ae02f5cd836c"
      },
      "source": [
        "# return\n",
        "rets = close_px / close_px.shift(1) - 1\n",
        "rets.plot()"
      ],
      "execution_count": 298,
      "outputs": [
        {
          "output_type": "execute_result",
          "data": {
            "text/plain": [
              "<matplotlib.axes._subplots.AxesSubplot at 0x7f37a0b17be0>"
            ]
          },
          "metadata": {
            "tags": []
          },
          "execution_count": 298
        },
        {
          "output_type": "display_data",
          "data": {
            "image/png": "[encoded data removed]",
            "text/plain": [
              "<Figure size 432x288 with 1 Axes>"
            ]
          },
          "metadata": {
            "tags": []
          }
        }
      ]
    },
    {
      "cell_type": "code",
      "metadata": {
        "id": "op9VnpO8MM1z",
        "colab_type": "code",
        "colab": {}
      },
      "source": [
        "# membandingkan dengan nilai saham perusahaan lain\n",
        "dfcomp = web.DataReader(['AALI.JK', 'BBCA.JK', 'AUTO.JK', 'BBRI.JK', 'KLBF.JK'], 'yahoo', start, end)['Adj Close']"
      ],
      "execution_count": 0,
      "outputs": []
    },
    {
      "cell_type": "code",
      "metadata": {
        "id": "Vy7D8c88M9Dj",
        "colab_type": "code",
        "colab": {
          "base_uri": "https://localhost:8080/",
          "height": 228
        },
        "outputId": "09b552c7-ad89-4b1b-ec3f-b08129b4a310"
      },
      "source": [
        "dfcomp = dfcomp.dropna()  # untuk menghilangkan nilai yang tidak ada dari perhitungan\n",
        "dfcomp.tail()"
      ],
      "execution_count": 300,
      "outputs": [
        {
          "output_type": "execute_result",
          "data": {
            "text/html": [
              "<div>\n",
              "<style scoped>\n",
              "    .dataframe tbody tr th:only-of-type {\n",
              "        vertical-align: middle;\n",
              "    }\n",
              "\n",
              "    .dataframe tbody tr th {\n",
              "        vertical-align: top;\n",
              "    }\n",
              "\n",
              "    .dataframe thead th {\n",
              "        text-align: right;\n",
              "    }\n",
              "</style>\n",
              "<table border=\"1\" class=\"dataframe\">\n",
              "  <thead>\n",
              "    <tr style=\"text-align: right;\">\n",
              "      <th>Symbols</th>\n",
              "      <th>AALI.JK</th>\n",
              "      <th>BBCA.JK</th>\n",
              "      <th>AUTO.JK</th>\n",
              "      <th>BBRI.JK</th>\n",
              "      <th>KLBF.JK</th>\n",
              "    </tr>\n",
              "    <tr>\n",
              "      <th>Date</th>\n",
              "      <th></th>\n",
              "      <th></th>\n",
              "      <th></th>\n",
              "      <th></th>\n",
              "      <th></th>\n",
              "    </tr>\n",
              "  </thead>\n",
              "  <tbody>\n",
              "    <tr>\n",
              "      <th>2019-11-25</th>\n",
              "      <td>13200.0</td>\n",
              "      <td>31375.0</td>\n",
              "      <td>1240.0</td>\n",
              "      <td>4130.0</td>\n",
              "      <td>1515.0</td>\n",
              "    </tr>\n",
              "    <tr>\n",
              "      <th>2019-11-26</th>\n",
              "      <td>13000.0</td>\n",
              "      <td>31425.0</td>\n",
              "      <td>1240.0</td>\n",
              "      <td>4150.0</td>\n",
              "      <td>1530.0</td>\n",
              "    </tr>\n",
              "    <tr>\n",
              "      <th>2019-11-27</th>\n",
              "      <td>12125.0</td>\n",
              "      <td>31500.0</td>\n",
              "      <td>1205.0</td>\n",
              "      <td>4170.0</td>\n",
              "      <td>1515.0</td>\n",
              "    </tr>\n",
              "    <tr>\n",
              "      <th>2019-11-28</th>\n",
              "      <td>12275.0</td>\n",
              "      <td>31250.0</td>\n",
              "      <td>1175.0</td>\n",
              "      <td>4050.0</td>\n",
              "      <td>1485.0</td>\n",
              "    </tr>\n",
              "    <tr>\n",
              "      <th>2019-11-29</th>\n",
              "      <td>12600.0</td>\n",
              "      <td>31400.0</td>\n",
              "      <td>1195.0</td>\n",
              "      <td>4090.0</td>\n",
              "      <td>1525.0</td>\n",
              "    </tr>\n",
              "  </tbody>\n",
              "</table>\n",
              "</div>"
            ],
            "text/plain": [
              "Symbols     AALI.JK  BBCA.JK  AUTO.JK  BBRI.JK  KLBF.JK\n",
              "Date                                                   \n",
              "2019-11-25  13200.0  31375.0   1240.0   4130.0   1515.0\n",
              "2019-11-26  13000.0  31425.0   1240.0   4150.0   1530.0\n",
              "2019-11-27  12125.0  31500.0   1205.0   4170.0   1515.0\n",
              "2019-11-28  12275.0  31250.0   1175.0   4050.0   1485.0\n",
              "2019-11-29  12600.0  31400.0   1195.0   4090.0   1525.0"
            ]
          },
          "metadata": {
            "tags": []
          },
          "execution_count": 300
        }
      ]
    },
    {
      "cell_type": "code",
      "metadata": {
        "id": "pLeibHryM9Pk",
        "colab_type": "code",
        "colab": {}
      },
      "source": [
        "retscomp = dfcomp.pct_change() # perubahan nilai\n",
        "corr = retscomp.corr() # korelasinya"
      ],
      "execution_count": 0,
      "outputs": []
    },
    {
      "cell_type": "code",
      "metadata": {
        "id": "PhczRG24Okpm",
        "colab_type": "code",
        "colab": {
          "base_uri": "https://localhost:8080/",
          "height": 228
        },
        "outputId": "ba8bfa35-514c-40c5-a80e-b880e843fe75"
      },
      "source": [
        "corr"
      ],
      "execution_count": 302,
      "outputs": [
        {
          "output_type": "execute_result",
          "data": {
            "text/html": [
              "<div>\n",
              "<style scoped>\n",
              "    .dataframe tbody tr th:only-of-type {\n",
              "        vertical-align: middle;\n",
              "    }\n",
              "\n",
              "    .dataframe tbody tr th {\n",
              "        vertical-align: top;\n",
              "    }\n",
              "\n",
              "    .dataframe thead th {\n",
              "        text-align: right;\n",
              "    }\n",
              "</style>\n",
              "<table border=\"1\" class=\"dataframe\">\n",
              "  <thead>\n",
              "    <tr style=\"text-align: right;\">\n",
              "      <th>Symbols</th>\n",
              "      <th>AALI.JK</th>\n",
              "      <th>BBCA.JK</th>\n",
              "      <th>AUTO.JK</th>\n",
              "      <th>BBRI.JK</th>\n",
              "      <th>KLBF.JK</th>\n",
              "    </tr>\n",
              "    <tr>\n",
              "      <th>Symbols</th>\n",
              "      <th></th>\n",
              "      <th></th>\n",
              "      <th></th>\n",
              "      <th></th>\n",
              "      <th></th>\n",
              "    </tr>\n",
              "  </thead>\n",
              "  <tbody>\n",
              "    <tr>\n",
              "      <th>AALI.JK</th>\n",
              "      <td>1.000000</td>\n",
              "      <td>0.095096</td>\n",
              "      <td>0.069687</td>\n",
              "      <td>0.138628</td>\n",
              "      <td>0.112020</td>\n",
              "    </tr>\n",
              "    <tr>\n",
              "      <th>BBCA.JK</th>\n",
              "      <td>0.095096</td>\n",
              "      <td>1.000000</td>\n",
              "      <td>0.257307</td>\n",
              "      <td>0.366057</td>\n",
              "      <td>0.475444</td>\n",
              "    </tr>\n",
              "    <tr>\n",
              "      <th>AUTO.JK</th>\n",
              "      <td>0.069687</td>\n",
              "      <td>0.257307</td>\n",
              "      <td>1.000000</td>\n",
              "      <td>0.300720</td>\n",
              "      <td>0.109623</td>\n",
              "    </tr>\n",
              "    <tr>\n",
              "      <th>BBRI.JK</th>\n",
              "      <td>0.138628</td>\n",
              "      <td>0.366057</td>\n",
              "      <td>0.300720</td>\n",
              "      <td>1.000000</td>\n",
              "      <td>0.283585</td>\n",
              "    </tr>\n",
              "    <tr>\n",
              "      <th>KLBF.JK</th>\n",
              "      <td>0.112020</td>\n",
              "      <td>0.475444</td>\n",
              "      <td>0.109623</td>\n",
              "      <td>0.283585</td>\n",
              "      <td>1.000000</td>\n",
              "    </tr>\n",
              "  </tbody>\n",
              "</table>\n",
              "</div>"
            ],
            "text/plain": [
              "Symbols   AALI.JK   BBCA.JK   AUTO.JK   BBRI.JK   KLBF.JK\n",
              "Symbols                                                  \n",
              "AALI.JK  1.000000  0.095096  0.069687  0.138628  0.112020\n",
              "BBCA.JK  0.095096  1.000000  0.257307  0.366057  0.475444\n",
              "AUTO.JK  0.069687  0.257307  1.000000  0.300720  0.109623\n",
              "BBRI.JK  0.138628  0.366057  0.300720  1.000000  0.283585\n",
              "KLBF.JK  0.112020  0.475444  0.109623  0.283585  1.000000"
            ]
          },
          "metadata": {
            "tags": []
          },
          "execution_count": 302
        }
      ]
    },
    {
      "cell_type": "code",
      "metadata": {
        "id": "WZ7M2-1nPM2Y",
        "colab_type": "code",
        "colab": {
          "base_uri": "https://localhost:8080/",
          "height": 377
        },
        "outputId": "26e0bc9f-53e9-46be-ab9a-13e6fc67b2cf"
      },
      "source": [
        "plt.imshow(corr, cmap='hot', interpolation=None)\n",
        "plt.colorbar()\n",
        "plt.xticks(range(len(corr)), corr.columns)\n",
        "plt.yticks(range(len(corr)), corr.columns)"
      ],
      "execution_count": 303,
      "outputs": [
        {
          "output_type": "execute_result",
          "data": {
            "text/plain": [
              "([<matplotlib.axis.YTick at 0x7f37a03d1710>,\n",
              "  <matplotlib.axis.YTick at 0x7f37a03d1c88>,\n",
              "  <matplotlib.axis.YTick at 0x7f37a03bf7b8>,\n",
              "  <matplotlib.axis.YTick at 0x7f37a0a7a7f0>,\n",
              "  <matplotlib.axis.YTick at 0x7f37a0a7ad30>],\n",
              " <a list of 5 Text yticklabel objects>)"
            ]
          },
          "metadata": {
            "tags": []
          },
          "execution_count": 303
        },
        {
          "output_type": "display_data",
          "data": {
            "image/png": "[encoded data removed]",
            "text/plain": [
              "<Figure size 432x288 with 2 Axes>"
            ]
          },
          "metadata": {
            "tags": []
          }
        }
      ]
    },
    {
      "cell_type": "code",
      "metadata": {
        "id": "NgxA7MiLRK1I",
        "colab_type": "code",
        "colab": {}
      },
      "source": [
        "# stock prediction\n"
      ],
      "execution_count": 0,
      "outputs": []
    },
    {
      "cell_type": "code",
      "metadata": {
        "id": "Usbgss1xRK4E",
        "colab_type": "code",
        "colab": {}
      },
      "source": [
        ""
      ],
      "execution_count": 0,
      "outputs": []
    },
    {
      "cell_type": "code",
      "metadata": {
        "id": "TZieelnnRK_z",
        "colab_type": "code",
        "colab": {}
      },
      "source": [
        ""
      ],
      "execution_count": 0,
      "outputs": []
    },
    {
      "cell_type": "code",
      "metadata": {
        "id": "yYViJXm9RLFU",
        "colab_type": "code",
        "colab": {}
      },
      "source": [
        ""
      ],
      "execution_count": 0,
      "outputs": []
    },
    {
      "cell_type": "code",
      "metadata": {
        "id": "FUpUTAAIRLDo",
        "colab_type": "code",
        "colab": {}
      },
      "source": [
        ""
      ],
      "execution_count": 0,
      "outputs": []
    },
    {
      "cell_type": "code",
      "metadata": {
        "id": "G9uzW-LIRK9s",
        "colab_type": "code",
        "colab": {}
      },
      "source": [
        ""
      ],
      "execution_count": 0,
      "outputs": []
    },
    {
      "cell_type": "code",
      "metadata": {
        "id": "R-pJAyKzRK7l",
        "colab_type": "code",
        "colab": {}
      },
      "source": [
        ""
      ],
      "execution_count": 0,
      "outputs": []
    },
    {
      "cell_type": "code",
      "metadata": {
        "id": "ls9yKm5nRKx6",
        "colab_type": "code",
        "colab": {}
      },
      "source": [
        ""
      ],
      "execution_count": 0,
      "outputs": []
    }
  ]
}